{
 "cells": [
  {
   "cell_type": "markdown",
   "metadata": {},
   "source": [
    "# Day1"
   ]
  },
  {
   "cell_type": "markdown",
   "metadata": {},
   "source": [
    "## Part 1\n",
    "\n",
    "The jungle must be too overgrown and difficult to navigate in vehicles or access from the air; the Elves' expedition traditionally goes on foot. As your boats approach land, the Elves begin taking inventory of their supplies. One important consideration is food - in particular, the number of Calories each Elf is carrying (your puzzle input).\n",
    "\n",
    "The Elves take turns writing down the number of Calories contained by the various meals, snacks, rations, etc. that they've brought with them, one item per line. Each Elf separates their own inventory from the previous Elf's inventory (if any) by a blank line.\n",
    "\n",
    "For example, suppose the Elves finish writing their items' Calories and end up with the following list:\n",
    "\n",
    "1000\n",
    "2000\n",
    "3000\n",
    "\n",
    "4000\n",
    "\n",
    "5000\n",
    "6000\n",
    "\n",
    "7000\n",
    "8000\n",
    "9000\n",
    "\n",
    "10000\n",
    "This list represents the Calories of the food carried by five Elves:\n",
    "\n",
    "The first Elf is carrying food with 1000, 2000, and 3000 Calories, a total of 6000 Calories.\n",
    "The second Elf is carrying one food item with 4000 Calories.\n",
    "The third Elf is carrying food with 5000 and 6000 Calories, a total of 11000 Calories.\n",
    "The fourth Elf is carrying food with 7000, 8000, and 9000 Calories, a total of 24000 Calories.\n",
    "The fifth Elf is carrying one food item with 10000 Calories.\n",
    "In case the Elves get hungry and need extra snacks, they need to know which Elf to ask: they'd like to know how many Calories are being carried by the Elf carrying the most Calories. In the example above, this is 24000 (carried by the fourth Elf).\n",
    "\n",
    "Find the Elf carrying the most Calories. How many total Calories is that Elf carrying?"
   ]
  },
  {
   "cell_type": "code",
   "execution_count": 2,
   "metadata": {},
   "outputs": [],
   "source": [
    "import numpy as np\n",
    "import itertools\n",
    "\n",
    "path = \"C:/Users/btait/OneDrive/Documents/AdventOfCode/AdventOfCode2022/PuzzleInputs/\""
   ]
  },
  {
   "cell_type": "code",
   "execution_count": 58,
   "metadata": {},
   "outputs": [],
   "source": [
    "with open(path + \"Day1.txt\", \"r\") as f:\n",
    "    Day1=[x for x in f.read().split(\"\\n\\n\")]\n",
    "\n",
    "#Split the elfs into a list for each elf\n",
    "Day1=[x.split('\\n') for x in Day1]\n",
    "\n",
    "#convert to numbers\n",
    "Day1=[[int(x) for x in elf] for elf in Day1]\n",
    "\n",
    "#create a total calory count for each elf\n",
    "Day1_total = [sum(elf) for elf in Day1]\n"
   ]
  },
  {
   "cell_type": "code",
   "execution_count": 68,
   "metadata": {},
   "outputs": [
    {
     "name": "stdout",
     "output_type": "stream",
     "text": [
      "The Elf carrying the most Calories is carrying 71300 calories\n"
     ]
    }
   ],
   "source": [
    "print(\"The Elf carrying the most Calories is carrying \"+ str(max(Day1_total)) + \" calories\")\n"
   ]
  },
  {
   "cell_type": "markdown",
   "metadata": {},
   "source": [
    "## Part Two\n",
    "\n",
    "By the time you calculate the answer to the Elves' question, they've already realized that the Elf carrying the most Calories of food might eventually run out of snacks.\n",
    "\n",
    "To avoid this unacceptable situation, the Elves would instead like to know the total Calories carried by the top three Elves carrying the most Calories. That way, even if one of those Elves runs out of snacks, they still have two backups.\n",
    "\n",
    "In the example above, the top three Elves are the fourth Elf (with 24000 Calories), then the third Elf (with 11000 Calories), then the fifth Elf (with 10000 Calories). The sum of the Calories carried by these three elves is 45000.\n",
    "\n",
    "Find the top three Elves carrying the most Calories. How many Calories are those Elves carrying in total?"
   ]
  },
  {
   "cell_type": "code",
   "execution_count": 71,
   "metadata": {},
   "outputs": [
    {
     "name": "stdout",
     "output_type": "stream",
     "text": [
      "The top three Elves carrying the most Calories are carrying a total of 209691 calories\n"
     ]
    }
   ],
   "source": [
    "Day1_total.sort(reverse=True)\n",
    "\n",
    "print(\"The top three Elves carrying the most Calories are carrying a total of \" + str(sum(Day1_total[0:3])) +\" calories\")"
   ]
  },
  {
   "cell_type": "markdown",
   "metadata": {},
   "source": [
    "# Day Two\n",
    "\n",
    "## Part 1"
   ]
  },
  {
   "cell_type": "markdown",
   "metadata": {},
   "source": [
    "Rock Paper Scissors is a game between two players. Each game contains many rounds; in each round, the players each simultaneously choose one of Rock, Paper, or Scissors using a hand shape. Then, a winner for that round is selected: Rock defeats Scissors, Scissors defeats Paper, and Paper defeats Rock. If both players choose the same shape, the round instead ends in a draw.\n",
    "\n",
    "Appreciative of your help yesterday, one Elf gives you an encrypted strategy guide (your puzzle input) that they say will be sure to help you win. \"The first column is what your opponent is going to play: A for Rock, B for Paper, and C for Scissors. The second column--\" Suddenly, the Elf is called away to help with someone's tent.\n",
    "\n",
    "The second column, you reason, must be what you should play in response: X for Rock, Y for Paper, and Z for Scissors. Winning every time would be suspicious, so the responses must have been carefully chosen.\n",
    "\n",
    "The winner of the whole tournament is the player with the highest score. Your total score is the sum of your scores for each round. The score for a single round is the score for the shape you selected (1 for Rock, 2 for Paper, and 3 for Scissors) plus the score for the outcome of the round (0 if you lost, 3 if the round was a draw, and 6 if you won).\n",
    "\n",
    "Since you can't be sure if the Elf is trying to help you or trick you, you should calculate the score you would get if you were to follow the strategy guide.\n",
    "\n",
    "For example, suppose you were given the following strategy guide:\n",
    "\n",
    "A Y\n",
    "\n",
    "B X\n",
    "\n",
    "C Z\n",
    "\n",
    "This strategy guide predicts and recommends the following:\n",
    "\n",
    "In the first round, your opponent will choose Rock (A), and you should choose Paper (Y). This ends in a win for you with a score of 8 (2 because you chose Paper + 6 because you won).\n",
    "In the second round, your opponent will choose Paper (B), and you should choose Rock (X). This ends in a loss for you with a score of 1 (1 + 0).\n",
    "The third round is a draw with both players choosing Scissors, giving you a score of 3 + 3 = 6.\n",
    "In this example, if you were to follow the strategy guide, you would get a total score of 15 (8 + 1 + 6).\n",
    "\n",
    "What would your total score be if everything goes exactly according to your strategy guide?"
   ]
  },
  {
   "cell_type": "code",
   "execution_count": 16,
   "metadata": {},
   "outputs": [],
   "source": [
    "with open(path + \"Day2.txt\", \"r\") as f:\n",
    "    Day2=[x.split(' ') for x in f.read().splitlines()]"
   ]
  },
  {
   "cell_type": "code",
   "execution_count": 25,
   "metadata": {},
   "outputs": [],
   "source": [
    "RockPaperScissors_dict = {'A':'Rock','B':'Paper','C':'Scissors','X':'Rock','Y':'Paper','Z':'Scissors'}\n"
   ]
  },
  {
   "cell_type": "code",
   "execution_count": 29,
   "metadata": {},
   "outputs": [],
   "source": [
    "Day2_tst = [['A','Y'],['B','X'],['C','Z']]"
   ]
  },
  {
   "cell_type": "code",
   "execution_count": 31,
   "metadata": {},
   "outputs": [],
   "source": [
    "def RockPaperScissors(lst):\n",
    "\n",
    "    WhatBeatsWhat = {'A':'Y','B':'Z','C':'X'}\n",
    "\n",
    "    draw_dict = {'A':'X','B':'Y','C':'Z'}\n",
    "\n",
    "    score_dict = {'X':1,'Y':2,'Z':3}\n",
    "\n",
    "    TotalScores = []\n",
    "\n",
    "    for game in lst:\n",
    "        if game[1] == WhatBeatsWhat[game[0]]:\n",
    "            score = score_dict[game[1]] + 6\n",
    "            TotalScores.append(score)\n",
    "            #print(\"win\")\n",
    "\n",
    "        elif game[1] == draw_dict[game[0]]:\n",
    "            score = score_dict[game[1]] + 3\n",
    "            TotalScores.append(score)\n",
    "            #print(\"draw\")\n",
    "        else:\n",
    "            score = score_dict[game[1]]\n",
    "            TotalScores.append(score)\n",
    "            #print(\"lose\")\n",
    "        #print(score)\n",
    "\n",
    "    return sum(TotalScores)"
   ]
  },
  {
   "cell_type": "code",
   "execution_count": 32,
   "metadata": {},
   "outputs": [
    {
     "data": {
      "text/plain": [
       "15"
      ]
     },
     "execution_count": 32,
     "metadata": {},
     "output_type": "execute_result"
    }
   ],
   "source": [
    "RockPaperScissors(Day2_tst)"
   ]
  },
  {
   "cell_type": "code",
   "execution_count": 33,
   "metadata": {},
   "outputs": [
    {
     "data": {
      "text/plain": [
       "13924"
      ]
     },
     "execution_count": 33,
     "metadata": {},
     "output_type": "execute_result"
    }
   ],
   "source": [
    "RockPaperScissors(Day2)"
   ]
  },
  {
   "cell_type": "markdown",
   "metadata": {},
   "source": [
    "The Elf finishes helping with the tent and sneaks back over to you. \"Anyway, the second column says how the round needs to end: X means you need to lose, Y means you need to end the round in a draw, and Z means you need to win. Good luck!\"\n",
    "\n",
    "The total score is still calculated in the same way, but now you need to figure out what shape to choose so the round ends as indicated. The example above now goes like this:\n",
    "\n",
    "In the first round, your opponent will choose Rock (A), and you need the round to end in a draw (Y), so you also choose Rock. This gives you a score of 1 + 3 = 4.\n",
    "\n",
    "In the second round, your opponent will choose Paper (B), and you choose Rock so you lose (X) with a score of 1 + 0 = 1.\n",
    "\n",
    "In the third round, you will defeat your opponent's Scissors with Rock for a score of 1 + 6 = 7.\n",
    "\n",
    "Now that you're correctly decrypting the ultra top secret strategy guide, you would get a total score of 12.\n",
    "\n",
    "Following the Elf's instructions for the second column, what would your total score be if everything goes exactly according to your strategy guide?"
   ]
  },
  {
   "cell_type": "code",
   "execution_count": 58,
   "metadata": {},
   "outputs": [],
   "source": [
    "def RockPaperScissors2(lst):\n",
    "\n",
    "    WinLoseDraw = {'X':'lose','Y':'draw','Z':'win'}\n",
    "\n",
    "    WhatLosesWhat = {'A':'Z','B':'X','C':'Y'}\n",
    "\n",
    "    WhatBeatsWhat = {'A':'Y','B':'Z','C':'X'}\n",
    "\n",
    "    score_dict = {'A':1,'B':2,'C':3,'X':1,'Y':2,'Z':3}\n",
    "\n",
    "    TotalScores = []\n",
    "\n",
    "    for game in lst:\n",
    "        if game[1] == 'Z':\n",
    "            score = score_dict[WhatBeatsWhat[game[0]]] + 6\n",
    "            TotalScores.append(score)\n",
    "            #print(\"win\")\n",
    "\n",
    "        elif game[1] == 'Y':\n",
    "            score = score_dict[game[0]] + 3\n",
    "            TotalScores.append(score)\n",
    "            #print(\"draw\")\n",
    "\n",
    "        elif game[1] == 'X':\n",
    "            score = score_dict[WhatLosesWhat[game[0]]]\n",
    "            TotalScores.append(score)\n",
    "            #print(\"lose\")\n",
    "\n",
    "        #print(score)\n",
    "\n",
    "    return sum(TotalScores)"
   ]
  },
  {
   "cell_type": "code",
   "execution_count": 59,
   "metadata": {},
   "outputs": [
    {
     "data": {
      "text/plain": [
       "13448"
      ]
     },
     "execution_count": 59,
     "metadata": {},
     "output_type": "execute_result"
    }
   ],
   "source": [
    "RockPaperScissors2(Day2)"
   ]
  },
  {
   "cell_type": "markdown",
   "metadata": {},
   "source": [
    "# Day3\n",
    "\n",
    "## Part 1\n",
    "\n",
    "Each rucksack has two large compartments. All items of a given type are meant to go into exactly one of the two compartments. The Elf that did the packing failed to follow this rule for exactly one item type per rucksack.\n",
    "\n",
    "The Elves have made a list of all of the items currently in each rucksack (your puzzle input), but they need your help finding the errors. Every item type is identified by a single lowercase or uppercase letter (that is, a and A refer to different types of items).\n",
    "\n",
    "The list of items for each rucksack is given as characters all on a single line. A given rucksack always has the same number of items in each of its two compartments, so the first half of the characters represent items in the first compartment, while the second half of the characters represent items in the second compartment.\n",
    "\n",
    "For example, suppose you have the following list of contents from six rucksacks:\n",
    "\n",
    "vJrwpWtwJgWrhcsFMMfFFhFp \n",
    "\n",
    "jqHRNqRjqzjGDLGLrsFMfFZSrLrFZsSL\n",
    "\n",
    "PmmdzqPrVvPwwTWBwg\n",
    "\n",
    "wMqvLMZHhHMvwLHjbvcjnnSBnvTQFn\n",
    "\n",
    "ttgJtRGJQctTZtZT\n",
    "\n",
    "CrZsJsPPZsGzwwsLwLmpwMDw\n",
    "\n",
    "The first rucksack contains the items vJrwpWtwJgWrhcsFMMfFFhFp, which means its first compartment contains the items vJrwpWtwJgWr, while the second compartment contains the items hcsFMMfFFhFp. The only item type that appears in both compartments is lowercase p.\n",
    "The second rucksack's compartments contain jqHRNqRjqzjGDLGL and rsFMfFZSrLrFZsSL. The only item type that appears in both compartments is uppercase L.\n",
    "The third rucksack's compartments contain PmmdzqPrV and vPwwTWBwg; the only common item type is uppercase P.\n",
    "The fourth rucksack's compartments only share item type v.\n",
    "The fifth rucksack's compartments only share item type t.\n",
    "The sixth rucksack's compartments only share item type s.\n",
    "To help prioritize item rearrangement, every item type can be converted to a priority:\n",
    "\n",
    "Lowercase item types a through z have priorities 1 through 26.\n",
    "Uppercase item types A through Z have priorities 27 through 52.\n",
    "In the above example, the priority of the item type that appears in both compartments of each rucksack is 16 (p), 38 (L), 42 (P), 22 (v), 20 (t), and 19 (s); the sum of these is 157.\n",
    "\n",
    "Find the item type that appears in both compartments of each rucksack. What is the sum of the priorities of those item types?"
   ]
  },
  {
   "cell_type": "code",
   "execution_count": 101,
   "metadata": {},
   "outputs": [],
   "source": [
    "Day3_tst = ['vJrwpWtwJgWrhcsFMMfFFhFp', \n",
    "'jqHRNqRjqzjGDLGLrsFMfFZSrLrFZsSL',\n",
    "'PmmdzqPrVvPwwTWBwg',\n",
    "'wMqvLMZHhHMvwLHjbvcjnnSBnvTQFn',\n",
    "'ttgJtRGJQctTZtZT',\n",
    "'CrZsJsPPZsGzwwsLwLmpwMDw']\n",
    "\n",
    "Day3_split_tst=[[x[0:int(len(x)/2)],x[int(len(x)/2):]] for x in Day3_tst]"
   ]
  },
  {
   "cell_type": "code",
   "execution_count": 164,
   "metadata": {},
   "outputs": [],
   "source": [
    "with open(path + \"Day3.txt\", \"r\") as f:\n",
    "    Day3=[x for x in f.read().splitlines()]\n",
    "\n",
    "#Split each rucksack into its two compartments\n",
    "Day3_split=[[x[0:int(len(x)/2)],x[int(len(x)/2):]] for x in Day3]"
   ]
  },
  {
   "cell_type": "code",
   "execution_count": 165,
   "metadata": {},
   "outputs": [],
   "source": [
    "#priority function split out\n",
    "\n",
    "def Priority(lst):\n",
    "    PriorityItems = []\n",
    "\n",
    "    for item in lst:\n",
    "        if item.isupper():\n",
    "            PriorityItems.append(ord(item),38)\n",
    "        elif item.islower():\n",
    "            PriorityItems.append(ord(item),96)\n",
    "    \n",
    "    return sum(PriorityItems)\n",
    "\n",
    "\n",
    "\n",
    "def RucksackSorter(lst):\n",
    "\n",
    "    DuplicateItems = []\n",
    "\n",
    "    for rucksack in lst:\n",
    "        duplicates =[]\n",
    "        for item in rucksack[0]:\n",
    "            #check each item is present in the second compartment and add it to the the duplicates\n",
    "            if item in rucksack[1]:  \n",
    "                duplicates.append(item)\n",
    "        #deduplicate to make sure not attaching same item multiple times\n",
    "        duplicates=list(dict.fromkeys(duplicates))\n",
    "        DuplicateItems.append(duplicates)\n",
    "\n",
    "    #sort out ugly list\n",
    "    DuplicateItems=[x[0] for x in DuplicateItems]\n",
    "\n",
    "    return(Priority(DuplicateItems))\n",
    "\n"
   ]
  },
  {
   "cell_type": "code",
   "execution_count": 166,
   "metadata": {},
   "outputs": [
    {
     "data": {
      "text/plain": [
       "7824"
      ]
     },
     "execution_count": 166,
     "metadata": {},
     "output_type": "execute_result"
    }
   ],
   "source": [
    "RucksackSorter(Day3_split)"
   ]
  },
  {
   "cell_type": "code",
   "execution_count": 142,
   "metadata": {},
   "outputs": [],
   "source": [
    "# split list into chunnks of size n\n",
    "def chunkify(lst, n):\n",
    "    return [lst[i * n:(i + 1) * n] for i in range((len(lst) + n , 1) // n )]"
   ]
  },
  {
   "cell_type": "code",
   "execution_count": 143,
   "metadata": {},
   "outputs": [],
   "source": [
    "Day3_grped = chunkify(Day3,3)"
   ]
  },
  {
   "cell_type": "code",
   "execution_count": 163,
   "metadata": {},
   "outputs": [
    {
     "data": {
      "text/plain": [
       "2798"
      ]
     },
     "execution_count": 163,
     "metadata": {},
     "output_type": "execute_result"
    }
   ],
   "source": [
    "def RucksackBadges(lst):\n",
    "\n",
    "    badges = []\n",
    "\n",
    "    for rucksack in Day3_grped:\n",
    "        badgetemp =[]\n",
    "        for item in rucksack[0]:\n",
    "            if item in rucksack[1] and item in rucksack[2]:\n",
    "                badgetemp.append(item)\n",
    "        badgetemp=list(dict.fromkeys(badgetemp))\n",
    "        badges.append(badgetemp)\n",
    "\n",
    "    badges=[x[0] for x in badges]\n",
    "\n",
    "    return Priority(badges)\n",
    "\n",
    "RucksackBadges(Day3_grped)\n",
    "\n"
   ]
  },
  {
   "cell_type": "markdown",
   "metadata": {},
   "source": [
    "# Day 4 \n",
    "\n",
    "## Part 1\n",
    "\n",
    "Space needs to be cleared before the last supplies can be unloaded from the ships, and so several Elves have been assigned the job of cleaning up sections of the camp. Every section has a unique ID number, and each Elf is assigned a range of section IDs.\n",
    "\n",
    "However, as some of the Elves compare their section assignments with each other, they've noticed that many of the assignments overlap. To try to quickly find overlaps and reduce duplicated effort, the Elves pair up and make a big list of the section assignments for each pair (your puzzle input).\n",
    "\n",
    "For example, consider the following list of section assignment pairs:\n",
    "\n",
    "2,4,6,8\n",
    "2,3,4,5\n",
    "5,7,7,9\n",
    "2,8,3,7\n",
    "6-6,4-6\n",
    "2-6,4-8\n",
    "For the first few pairs, this list means:\n",
    "\n",
    "Within the first pair of Elves, the first Elf was assigned sections 2-4 (sections 2, 3, and 4), while the second Elf was assigned sections 6-8 (sections 6, 7, 8).\n",
    "The Elves in the second pair were each assigned two sections.\n",
    "The Elves in the third pair were each assigned three sections: one got sections 5, 6, and 7, while the other also got 7, plus 8 and 9.\n",
    "This example list uses single-digit section IDs to make it easier to draw; your actual list might contain larger numbers. Visually, these pairs of section assignments look like this:\n",
    "\n",
    ".234.....  2-4\n",
    ".....678.  6-8\n",
    "\n",
    ".23......  2-3\n",
    "...45....  4-5\n",
    "\n",
    "....567..  5-7\n",
    "......789  7-9\n",
    "\n",
    ".2345678.  2-8\n",
    "..34567..  3-7\n",
    "\n",
    ".....6...  6-6\n",
    "...456...  4-6\n",
    "\n",
    ".23456...  2-6\n",
    "...45678.  4-8\n",
    "Some of the pairs have noticed that one of their assignments fully contains the other. For example, 2-8 fully contains 3-7, and 6-6 is fully contained by 4-6. In pairs where one assignment fully contains the other, one Elf in the pair would be exclusively cleaning sections their partner will already be cleaning, so these seem like the most in need of reconsideration. In this example, there are 2 such pairs.\n",
    "\n",
    "In how many assignment pairs does one range fully contain the other?"
   ]
  },
  {
   "cell_type": "code",
   "execution_count": 19,
   "metadata": {},
   "outputs": [],
   "source": [
    "with open(path + \"Day4.txt\", \"r\") as f:\n",
    "    Day4=[x.split(',') for x in f.read().splitlines()]\n",
    "\n",
    "Day4 = [[x.split('-') for x in row] for row in Day4]\n",
    "Day4 = [[[int(x) for x in elf] for elf in section] for section in Day4]"
   ]
  },
  {
   "cell_type": "code",
   "execution_count": 40,
   "metadata": {},
   "outputs": [],
   "source": [
    "Day4_tst = [[[2,4],[6,8]],\n",
    "[[2,3],[4,5]],\n",
    "[[5,7],[7,9]],\n",
    "[[2,8],[3,7]],\n",
    "[[6,6],[4,6]],\n",
    "[[2,6],[4,8]]]"
   ]
  },
  {
   "cell_type": "code",
   "execution_count": 45,
   "metadata": {},
   "outputs": [],
   "source": [
    "def FullyEnclosed(lst):\n",
    "    \n",
    "    enclosed =0\n",
    "\n",
    "    for pair in lst:\n",
    "        if (pair[0][0]<=pair[1][0] and pair[0][1]>=pair[1][1]) or (pair[0][0]>=pair[1][0] and pair[0][1]<=pair[1][1]):\n",
    "            enclosed = enclosed +1\n",
    "\n",
    "    return(enclosed)"
   ]
  },
  {
   "cell_type": "code",
   "execution_count": 47,
   "metadata": {},
   "outputs": [
    {
     "data": {
      "text/plain": [
       "448"
      ]
     },
     "execution_count": 47,
     "metadata": {},
     "output_type": "execute_result"
    }
   ],
   "source": [
    "FullyEnclosed(Day4_tst)\n",
    "FullyEnclosed(Day4)"
   ]
  },
  {
   "cell_type": "markdown",
   "metadata": {},
   "source": [
    "## Part 2\n",
    "\n",
    "It seems like there is still quite a bit of duplicate work planned. Instead, the Elves would like to know the number of pairs that overlap at all.\n",
    "\n",
    "In the above example, the first two pairs (2-4,6-8 and 2-3,4-5) don't overlap, while the remaining four pairs (5-7,7-9, 2-8,3-7, 6-6,4-6, and 2-6,4-8) do overlap:\n",
    "\n",
    "5-7,7-9 overlaps in a single section, 7.\n",
    "2-8,3-7 overlaps all of the sections 3 through 7.\n",
    "6-6,4-6 overlaps in a single section, 6.\n",
    "2-6,4-8 overlaps in sections 4, 5, and 6.\n",
    "So, in this example, the number of overlapping assignment pairs is 4."
   ]
  },
  {
   "cell_type": "code",
   "execution_count": 68,
   "metadata": {},
   "outputs": [],
   "source": [
    "def Overlap(lst):\n",
    "    \n",
    "    enclosed =0\n",
    "\n",
    "    for pair in lst:\n",
    "        rangea = set(range(pair[0][0],pair[0][1]+1))\n",
    "        rangeb = range(pair[1][0],pair[1][1]+1)\n",
    "\n",
    "        if len(rangea.intersection(rangeb))>0:\n",
    "            enclosed = enclosed +1\n",
    "\n",
    "    return(enclosed)\n"
   ]
  },
  {
   "cell_type": "code",
   "execution_count": 69,
   "metadata": {},
   "outputs": [
    {
     "data": {
      "text/plain": [
       "4"
      ]
     },
     "execution_count": 69,
     "metadata": {},
     "output_type": "execute_result"
    }
   ],
   "source": [
    "Overlap(Day4_tst)"
   ]
  },
  {
   "cell_type": "code",
   "execution_count": 67,
   "metadata": {},
   "outputs": [
    {
     "data": {
      "text/plain": [
       "794"
      ]
     },
     "execution_count": 67,
     "metadata": {},
     "output_type": "execute_result"
    }
   ],
   "source": [
    "Overlap(Day4)"
   ]
  },
  {
   "cell_type": "markdown",
   "metadata": {},
   "source": [
    "# Day 5\n",
    "\n",
    "## Part 1\n",
    "\n"
   ]
  },
  {
   "cell_type": "code",
   "execution_count": 258,
   "metadata": {},
   "outputs": [],
   "source": [
    "with open(path + \"Day5.txt\", \"r\") as f:\n",
    "    Day5=[x for x in f.read().splitlines()]\n",
    "\n",
    "Day5_stacks= Day5[0:9]  \n",
    "Day5_instructions= Day5[10:]\n"
   ]
  },
  {
   "cell_type": "code",
   "execution_count": 251,
   "metadata": {},
   "outputs": [],
   "source": [
    "Day5_stacks_tst = [['N','Z'],['D','C','M'],['P']]\n",
    "\n",
    "Day5_instructions_tst = ['move 1 from 2 to 1',\n",
    "'move 3 from 1 to 3',\n",
    "'move 2 from 2 to 1',\n",
    "'move 1 from 1 to 2']"
   ]
  },
  {
   "cell_type": "code",
   "execution_count": 262,
   "metadata": {},
   "outputs": [
    {
     "data": {
      "text/plain": [
       "[['J', 'Z', 'G', 'V', 'T', 'D', 'B', 'N', '1'],\n",
       " ['F', 'P', 'W', 'D', 'M', 'R', 'S', '2'],\n",
       " ['Z', 'S', 'R', 'C', 'V', '3'],\n",
       " ['G', 'H', 'P', 'Z', 'J', 'T', 'R', '4'],\n",
       " ['F', 'Q', 'Z', 'D', 'N', 'J', 'C', 'T', '5'],\n",
       " ['M', 'F', 'S', 'G', 'W', 'P', 'V', 'N', '6'],\n",
       " ['Q', 'P', 'B', 'V', 'C', 'G', '7'],\n",
       " ['N', 'P', 'B', 'Z', '8'],\n",
       " ['J', 'P', 'W', '9']]"
      ]
     },
     "execution_count": 262,
     "metadata": {},
     "output_type": "execute_result"
    }
   ],
   "source": [
    "#switch the stacks so that each stack is it's own list\n",
    "#remove the square brackets,\n",
    "#4 is the space between one stack and the next\n",
    "Day5_stacks_swivel = []\n",
    "\n",
    "for n in range (1,len(Day5_stacks[0])+1,4):\n",
    "    stack=[x[n:n+1] for x in Day5_stacks]\n",
    "    Day5_stacks_swivel.append(stack)\n",
    "\n",
    "#remove empty characters\n",
    "Day5_stacks_swivel = [[x for x in stack if x != ' '] for stack in Day5_stacks_swivel]\n"
   ]
  },
  {
   "cell_type": "code",
   "execution_count": 260,
   "metadata": {},
   "outputs": [],
   "source": [
    "def CrateMover9000(stacks,instuctions):\n",
    "    for instruction in instuctions:\n",
    "        #extract the number of crates being moved, including when it is a double digit number\n",
    "        if instruction[6]==' ':\n",
    "            quantity = int(instruction[5])\n",
    "        else:\n",
    "            quantity = int(instruction[5:7])\n",
    "        \n",
    "        start_stack = int(instruction[-6])-1\n",
    "        end_stack = int(instruction[-1])-1\n",
    "\n",
    "        #reverse the stack \n",
    "        moving_stack = stacks[start_stack][0:quantity][::-1]\n",
    "        \n",
    "        #copy the quantity from the start stack to the end stack\n",
    "        stacks[end_stack].insert(0,moving_stack)\n",
    "\n",
    "        #remove the quantity from the original stack\n",
    "        del stacks[start_stack][0:quantity]\n",
    "\n",
    "        stacks[end_stack] =  [item for sublist in stacks[end_stack] for item in sublist]\n",
    "\n",
    "    return ''.join([x[0] for x in stacks])\n",
    "\n",
    "    "
   ]
  },
  {
   "cell_type": "code",
   "execution_count": 246,
   "metadata": {},
   "outputs": [
    {
     "data": {
      "text/plain": [
       "'CMZ'"
      ]
     },
     "execution_count": 246,
     "metadata": {},
     "output_type": "execute_result"
    }
   ],
   "source": [
    "CrateMover9000(Day5_stacks_tst,Day5_instructions_tst)"
   ]
  },
  {
   "cell_type": "code",
   "execution_count": 261,
   "metadata": {},
   "outputs": [
    {
     "data": {
      "text/plain": [
       "'GFTNRBZPF'"
      ]
     },
     "execution_count": 261,
     "metadata": {},
     "output_type": "execute_result"
    }
   ],
   "source": [
    "CrateMover9000(Day5_stacks_swivel,Day5_instructions)\n"
   ]
  },
  {
   "cell_type": "code",
   "execution_count": 263,
   "metadata": {},
   "outputs": [],
   "source": [
    "def CrateMover9001(stacks,instuctions):\n",
    "\n",
    "    for instruction in instuctions:\n",
    "        if instruction[6]==' ':\n",
    "            quantity = int(instruction[5])\n",
    "        else:\n",
    "            quantity = int(instruction[5:7])\n",
    "        \n",
    "        start_stack = int(instruction[-6])-1\n",
    "        end_stack = int(instruction[-1])-1\n",
    "\n",
    "        moving_stack = stacks[start_stack][0:quantity]\n",
    "        \n",
    "        #copy the quantity from the start stack to the end stack\n",
    "        stacks[end_stack].insert(0,moving_stack)\n",
    "\n",
    "        #remove the quantity from the original stack\n",
    "        del stacks[start_stack][0:quantity]\n",
    "\n",
    "        stacks[end_stack] =  [item for sublist in stacks[end_stack] for item in sublist]\n",
    "\n",
    "    return ''.join([x[0] for x in stacks])\n",
    "    #return stacks"
   ]
  },
  {
   "cell_type": "code",
   "execution_count": 265,
   "metadata": {},
   "outputs": [
    {
     "data": {
      "text/plain": [
       "'VRQWPDSGP'"
      ]
     },
     "execution_count": 265,
     "metadata": {},
     "output_type": "execute_result"
    }
   ],
   "source": [
    "CrateMover9001(Day5_stacks_swivel,Day5_instructions)"
   ]
  }
 ],
 "metadata": {
  "kernelspec": {
   "display_name": "Python 3.9.13 ('base')",
   "language": "python",
   "name": "python3"
  },
  "language_info": {
   "codemirror_mode": {
    "name": "ipython",
    "version": 3
   },
   "file_extension": ".py",
   "mimetype": "text/x-python",
   "name": "python",
   "nbconvert_exporter": "python",
   "pygments_lexer": "ipython3",
   "version": "3.9.13"
  },
  "orig_nbformat": 4,
  "vscode": {
   "interpreter": {
    "hash": "98fcb9b69a3ba993dbc914a336d652188ee0850e322ffaa125b5c56bf96aceff"
   }
  }
 },
 "nbformat": 4,
 "nbformat_minor": 2
}
